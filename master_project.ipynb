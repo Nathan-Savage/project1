{
 "cells": [
  {
   "cell_type": "code",
   "execution_count": 1,
   "id": "a1968e49-8c77-4275-8391-2042a0f758e5",
   "metadata": {},
   "outputs": [],
   "source": [
    "import os\n",
    "import pandas as pd\n",
    "import numpy as np\n",
    "import scipy as st\n",
    "import matplotlib.pyplot as plt\n",
    "import pathlib as path"
   ]
  },
  {
   "cell_type": "code",
   "execution_count": 2,
   "id": "fc4bc649-64c0-4682-b26d-d40083fcbcea",
   "metadata": {},
   "outputs": [
    {
     "data": {
      "text/plain": [
       "Film                                             object\n",
       "U.S. release date                                object\n",
       "Box office gross Domestic (U.S. and Canada )     object\n",
       "Box office gross Other territories               object\n",
       "Box office gross Worldwide                       object\n",
       "Budget                                           object\n",
       "MCU                                                bool\n",
       "Phase                                           float64\n",
       "Distributor                                      object\n",
       "MPAA Rating                                      object\n",
       "Length                                           object\n",
       "Minutes                                           int64\n",
       "Franchise                                        object\n",
       "Character Family                                 object\n",
       "Domestic %                                       object\n",
       "Gross to Budget                                 float64\n",
       "Rotten Tomatoes Critic Score                      int64\n",
       "Male/Female-led                                  object\n",
       "Year                                              int64\n",
       "Inflation Adjusted Worldwide Gross               object\n",
       "Inflation Adjusted Budget                        object\n",
       "2.5x prod                                        object\n",
       "Break Even                                       object\n",
       "dtype: object"
      ]
     },
     "execution_count": 2,
     "metadata": {},
     "output_type": "execute_result"
    }
   ],
   "source": [
    "marvel_dc_movie_df = pd.read_csv('dc_marvel_movie_performance.csv')\n",
    "marvel_dc_movie_df.dtypes"
   ]
  },
  {
   "cell_type": "code",
   "execution_count": null,
   "id": "40b42460-fcb1-42b5-a647-24b51a2d9b56",
   "metadata": {},
   "outputs": [],
   "source": []
  }
 ],
 "metadata": {
  "kernelspec": {
   "display_name": "Python 3 (ipykernel)",
   "language": "python",
   "name": "python3"
  },
  "language_info": {
   "codemirror_mode": {
    "name": "ipython",
    "version": 3
   },
   "file_extension": ".py",
   "mimetype": "text/x-python",
   "name": "python",
   "nbconvert_exporter": "python",
   "pygments_lexer": "ipython3",
   "version": "3.10.14"
  }
 },
 "nbformat": 4,
 "nbformat_minor": 5
}
