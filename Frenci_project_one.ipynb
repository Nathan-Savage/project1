{
 "cells": [
  {
   "cell_type": "code",
   "execution_count": 28,
   "id": "01606467-d099-402d-958f-a12b98c70a84",
   "metadata": {},
   "outputs": [],
   "source": [
    "import pandas as pd\n",
    "import os\n",
    "import pathlib as path\n",
    "import matplotlib. pyplot as plt\n",
    "import scipy as ct\n",
    "import numpy as np"
   ]
  },
  {
   "cell_type": "code",
   "execution_count": 29,
   "id": "16ba20bd-49d4-44a9-82d5-80e586de118d",
   "metadata": {},
   "outputs": [],
   "source": [
    "#marvel_vs_dc_df = pd.read_csv(\"Marvel Vs DC NEW.csv\")\n",
    "marvel_dc_movie_df = pd.read_csv(\"dc_marvel_movie_performance.csv\")\n",
    "#mcu_box_df = pd.read_csv(\"mcu_box_office.csv\")\n",
    "\n"
   ]
  },
  {
   "cell_type": "code",
   "execution_count": 30,
   "id": "b7e50c26-12de-474f-85a5-06315de8db72",
   "metadata": {},
   "outputs": [],
   "source": [
    "#merged_df= pd.merge(marvel_vs_dc_df,dc_marvel_df,mcu_box_df, how=\"left\")\n"
   ]
  },
  {
   "cell_type": "code",
   "execution_count": 31,
   "id": "f85e6f01-f427-4ce5-825c-2b0e6ea6a8db",
   "metadata": {},
   "outputs": [
    {
     "data": {
      "text/plain": [
       "Film                                             object\n",
       "U.S. release date                                object\n",
       "Box office gross Domestic (U.S. and Canada )     object\n",
       "Box office gross Other territories               object\n",
       "Box office gross Worldwide                       object\n",
       "Budget                                           object\n",
       "MCU                                                bool\n",
       "Phase                                           float64\n",
       "Distributor                                      object\n",
       "MPAA Rating                                      object\n",
       "Length                                           object\n",
       "Minutes                                           int64\n",
       "Franchise                                        object\n",
       "Character Family                                 object\n",
       "Domestic %                                       object\n",
       "Gross to Budget                                 float64\n",
       "Rotten Tomatoes Critic Score                      int64\n",
       "Male/Female-led                                  object\n",
       "Year                                              int64\n",
       "Inflation Adjusted Worldwide Gross               object\n",
       "Inflation Adjusted Budget                        object\n",
       "2.5x prod                                        object\n",
       "Break Even                                       object\n",
       "dtype: object"
      ]
     },
     "execution_count": 31,
     "metadata": {},
     "output_type": "execute_result"
    }
   ],
   "source": [
    "marvel_dc_movie_df.dtypes"
   ]
  },
  {
   "cell_type": "code",
   "execution_count": 32,
   "id": "ad41266a-8d8c-4ed7-9b3b-fa2ecaa73bed",
   "metadata": {},
   "outputs": [
    {
     "data": {
      "text/plain": [
       "<pandas.core.groupby.generic.DataFrameGroupBy object at 0x000001D5CF140F70>"
      ]
     },
     "execution_count": 32,
     "metadata": {},
     "output_type": "execute_result"
    }
   ],
   "source": [
    "grouped_df = marvel_dc_movie_df.groupby(\"Minutes\")\n",
    "grouped_df"
   ]
  },
  {
   "cell_type": "code",
   "execution_count": 36,
   "id": "2fdea31d-03ee-4aa4-8fbc-e671adf6ef8e",
   "metadata": {},
   "outputs": [
    {
     "name": "stdout",
     "output_type": "stream",
     "text": [
      "    Franchise  Minutes           Budget\n",
      "0          DC      143   $55,000,000.00\n",
      "1          DC      127   $54,000,000.00\n",
      "2          DC      125   $39,000,000.00\n",
      "3          DC      124   $35,000,000.00\n",
      "4      Marvel      110   $37,000,000.00\n",
      "..        ...      ...              ...\n",
      "108        DC      144  $200,000,000.00\n",
      "109        DC      127  $120,000,000.00\n",
      "110    Marvel      105  $219,800,000.00\n",
      "111        DC      124  $205,000,000.00\n",
      "112    Marvel      116   $80,000,000.00\n",
      "\n",
      "[113 rows x 3 columns]\n"
     ]
    }
   ],
   "source": [
    "print(marvel_dc_movie_df[['Franchise', 'Minutes', 'Budget']])\n"
   ]
  },
  {
   "cell_type": "code",
   "execution_count": null,
   "id": "182c38ab-d3e2-4780-a02a-d85f74ad9b84",
   "metadata": {},
   "outputs": [],
   "source": [
    "marvel_dc_movie_df[['Franchise', 'Minutes', 'Budget']]"
   ]
  },
  {
   "cell_type": "code",
   "execution_count": 40,
   "id": "b1939a46-e526-451e-88bf-91cced3a2849",
   "metadata": {},
   "outputs": [],
   "source": [
    "grouped = marvel_dc_movie_df.groupby('Franchise')['Budget'].sum().reset_index()\n"
   ]
  },
  {
   "cell_type": "code",
   "execution_count": 88,
   "id": "2f6f9a06-3711-481f-a439-589d69396653",
   "metadata": {},
   "outputs": [
    {
     "data": {
      "text/plain": [
       "Film                                             object\n",
       "U.S. release date                                object\n",
       "Box office gross Domestic (U.S. and Canada )     object\n",
       "Box office gross Other territories               object\n",
       "Box office gross Worldwide                       object\n",
       "Budget                                          float64\n",
       "MCU                                                bool\n",
       "Phase                                           float64\n",
       "Distributor                                      object\n",
       "MPAA Rating                                      object\n",
       "Length                                           object\n",
       "Minutes                                           int64\n",
       "Franchise                                        object\n",
       "Character Family                                 object\n",
       "Domestic %                                       object\n",
       "Gross to Budget                                 float64\n",
       "Rotten Tomatoes Critic Score                      int64\n",
       "Male/Female-led                                  object\n",
       "Year                                              int64\n",
       "Inflation Adjusted Worldwide Gross               object\n",
       "Inflation Adjusted Budget                        object\n",
       "2.5x prod                                        object\n",
       "Break Even                                       object\n",
       "dtype: object"
      ]
     },
     "execution_count": 88,
     "metadata": {},
     "output_type": "execute_result"
    }
   ],
   "source": [
    "marvel_dc_movie_df.dtypes"
   ]
  },
  {
   "cell_type": "code",
   "execution_count": 87,
   "id": "cfacacb5-6c55-49c0-90a1-872fdd44fac5",
   "metadata": {},
   "outputs": [],
   "source": [
    "marvel_dc_movie_df['Budget'] = marvel_dc_movie_df['Budget'].replace('\\\\$', '', regex= True).replace(',','', regex = True).astype(float)"
   ]
  },
  {
   "cell_type": "code",
   "execution_count": 89,
   "id": "b5e14ee7-5cf4-4a91-b731-95d734b564d2",
   "metadata": {},
   "outputs": [
    {
     "data": {
      "text/html": [
       "<div>\n",
       "<style scoped>\n",
       "    .dataframe tbody tr th:only-of-type {\n",
       "        vertical-align: middle;\n",
       "    }\n",
       "\n",
       "    .dataframe tbody tr th {\n",
       "        vertical-align: top;\n",
       "    }\n",
       "\n",
       "    .dataframe thead th {\n",
       "        text-align: right;\n",
       "    }\n",
       "</style>\n",
       "<table border=\"1\" class=\"dataframe\">\n",
       "  <thead>\n",
       "    <tr style=\"text-align: right;\">\n",
       "      <th></th>\n",
       "      <th>Franchise</th>\n",
       "      <th>Minutes</th>\n",
       "      <th>Budget</th>\n",
       "    </tr>\n",
       "  </thead>\n",
       "  <tbody>\n",
       "    <tr>\n",
       "      <th>0</th>\n",
       "      <td>DC</td>\n",
       "      <td>5147</td>\n",
       "      <td>5.110100e+09</td>\n",
       "    </tr>\n",
       "    <tr>\n",
       "      <th>1</th>\n",
       "      <td>Marvel</td>\n",
       "      <td>8872</td>\n",
       "      <td>1.113300e+10</td>\n",
       "    </tr>\n",
       "  </tbody>\n",
       "</table>\n",
       "</div>"
      ],
      "text/plain": [
       "  Franchise  Minutes        Budget\n",
       "0        DC     5147  5.110100e+09\n",
       "1    Marvel     8872  1.113300e+10"
      ]
     },
     "execution_count": 89,
     "metadata": {},
     "output_type": "execute_result"
    }
   ],
   "source": [
    "grouped = marvel_dc_movie_df.groupby('Franchise')[['Minutes', 'Budget']].sum().reset_index()\n",
    "grouped.head()"
   ]
  },
  {
   "cell_type": "code",
   "execution_count": 98,
   "id": "24d7dd22-1f36-46ee-aa11-24ffaa7791e4",
   "metadata": {},
   "outputs": [
    {
     "data": {
      "image/png": "[encoded data removed]",
      "text/plain": [
       "<Figure size 1000x600 with 1 Axes>"
      ]
     },
     "metadata": {},
     "output_type": "display_data"
    }
   ],
   "source": [
    "\n",
    "# Group data by Franchise and sum the Minutes and Budget\n",
    "grouped = marvel_dc_movie_df.groupby('Franchise')[['Minutes', 'Budget']].sum().reset_index()\n",
    "\n",
    "# Set positions for bars on the x-axis\n",
    "grouped_franchise = np.arange(len(grouped['Franchise']))  # the label locations\n",
    "plt.figure(figsize=(10, 6))\n",
    "#plt.bar(grouped_franchise, grouped['Minutes'], label='Minutes', color=['red', 'lightblue'])\n",
    "plt.bar(grouped_franchise, grouped['Budget'], bottom=grouped['Budget'], label='Budget ($)', color='lightblue')\n",
    "\n",
    "#titles and labels\n",
    "plt.title('Total Minutes and Budget by Franchise')\n",
    "plt.xlabel('Franchise')\n",
    "plt.ylabel('Total' )\n",
    "\n",
    "# Add x-ticks for Franchise names\n",
    "plt.xticks(grouped_franchise, grouped['Franchise'])\n",
    "\n",
    "# Add legend?\n",
    "plt.legend()\n",
    "\n",
    "# Show the plot\n",
    "plt.tight_layout() \n",
    "plt.show()"
   ]
  },
  {
   "cell_type": "code",
   "execution_count": 99,
   "id": "b4c488f9-b520-40e3-b4c7-816c8bd7b6f6",
   "metadata": {},
   "outputs": [
    {
     "data": {
      "image/png": "[encoded data removed]",
      "text/plain": [
       "<Figure size 1000x600 with 1 Axes>"
      ]
     },
     "metadata": {},
     "output_type": "display_data"
    }
   ],
   "source": [
    "# Group data by Franchise and sum the Minutes and Budget\n",
    "grouped = marvel_dc_movie_df.groupby('Franchise')[['Minutes', 'Budget']].sum().reset_index()\n",
    "\n",
    "# Set positions for bars on the x-axis\n",
    "grouped_franchise = np.arange(len(grouped['Franchise']))  # the label locations\n",
    "plt.figure(figsize=(10, 6))\n",
    "plt.bar(grouped_franchise, grouped['Minutes'], label='Minutes', color=['red', 'lightblue'])\n",
    "#plt.bar(grouped_franchise, grouped['Budget'], bottom=grouped['Minutes'], label='Budget ($)', color='lightblue')\n",
    "\n",
    "#titles and labels\n",
    "plt.title('Total Minutes and Budget by Franchise')\n",
    "plt.xlabel('Franchise')\n",
    "plt.ylabel('Total' )\n",
    "\n",
    "# Add x-ticks for Franchise names\n",
    "plt.xticks(grouped_franchise, grouped['Franchise'])\n",
    "\n",
    "# Add legend?\n",
    "plt.legend()\n",
    "\n",
    "# Show the plot\n",
    "plt.tight_layout() \n",
    "plt.show()"
   ]
  },
  {
   "cell_type": "code",
   "execution_count": null,
   "id": "752cd627-2892-42f3-90b5-41ce8fdfbf5e",
   "metadata": {},
   "outputs": [],
   "source": []
  }
 ],
 "metadata": {
  "kernelspec": {
   "display_name": "Python 3 (ipykernel)",
   "language": "python",
   "name": "python3"
  },
  "language_info": {
   "codemirror_mode": {
    "name": "ipython",
    "version": 3
   },
   "file_extension": ".py",
   "mimetype": "text/x-python",
   "name": "python",
   "nbconvert_exporter": "python",
   "pygments_lexer": "ipython3",
   "version": "3.10.14"
  }
 },
 "nbformat": 4,
 "nbformat_minor": 5
}
